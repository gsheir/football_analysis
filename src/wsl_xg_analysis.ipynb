{
 "cells": [
  {
   "cell_type": "markdown",
   "metadata": {},
   "source": [
    "# WSL xG analysis"
   ]
  },
  {
   "cell_type": "code",
   "execution_count": 6,
   "metadata": {},
   "outputs": [],
   "source": [
    "from statsbombpy import sb\n",
    "from utils.statsbomb_wrappers import Match, Season\n",
    "import pandas as pd\n",
    "\n",
    "import matplotlib.pyplot as plt\n",
    "from mplsoccer import VerticalPitch, Pitch"
   ]
  },
  {
   "cell_type": "code",
   "execution_count": 2,
   "metadata": {},
   "outputs": [
    {
     "data": {
      "text/html": [
       "<div>\n",
       "<style scoped>\n",
       "    .dataframe tbody tr th:only-of-type {\n",
       "        vertical-align: middle;\n",
       "    }\n",
       "\n",
       "    .dataframe tbody tr th {\n",
       "        vertical-align: top;\n",
       "    }\n",
       "\n",
       "    .dataframe thead th {\n",
       "        text-align: right;\n",
       "    }\n",
       "</style>\n",
       "<table border=\"1\" class=\"dataframe\">\n",
       "  <thead>\n",
       "    <tr style=\"text-align: right;\">\n",
       "      <th></th>\n",
       "      <th>competition_id</th>\n",
       "      <th>season_id</th>\n",
       "      <th>country_name</th>\n",
       "      <th>competition_name</th>\n",
       "      <th>competition_gender</th>\n",
       "      <th>competition_youth</th>\n",
       "      <th>competition_international</th>\n",
       "      <th>season_name</th>\n",
       "      <th>match_updated</th>\n",
       "      <th>match_updated_360</th>\n",
       "      <th>match_available_360</th>\n",
       "      <th>match_available</th>\n",
       "    </tr>\n",
       "  </thead>\n",
       "  <tbody>\n",
       "    <tr>\n",
       "      <th>22</th>\n",
       "      <td>37</td>\n",
       "      <td>90</td>\n",
       "      <td>England</td>\n",
       "      <td>FA Women's Super League</td>\n",
       "      <td>female</td>\n",
       "      <td>False</td>\n",
       "      <td>False</td>\n",
       "      <td>2020/2021</td>\n",
       "      <td>2023-02-25T14:52:09.326729</td>\n",
       "      <td>2021-06-13T16:17:31.694</td>\n",
       "      <td>None</td>\n",
       "      <td>2023-02-25T14:52:09.326729</td>\n",
       "    </tr>\n",
       "    <tr>\n",
       "      <th>23</th>\n",
       "      <td>37</td>\n",
       "      <td>42</td>\n",
       "      <td>England</td>\n",
       "      <td>FA Women's Super League</td>\n",
       "      <td>female</td>\n",
       "      <td>False</td>\n",
       "      <td>False</td>\n",
       "      <td>2019/2020</td>\n",
       "      <td>2023-07-25T01:08:03.214566</td>\n",
       "      <td>2021-06-13T16:17:31.694</td>\n",
       "      <td>None</td>\n",
       "      <td>2023-07-25T01:08:03.214566</td>\n",
       "    </tr>\n",
       "    <tr>\n",
       "      <th>24</th>\n",
       "      <td>37</td>\n",
       "      <td>4</td>\n",
       "      <td>England</td>\n",
       "      <td>FA Women's Super League</td>\n",
       "      <td>female</td>\n",
       "      <td>False</td>\n",
       "      <td>False</td>\n",
       "      <td>2018/2019</td>\n",
       "      <td>2023-07-24T19:50:20.881595</td>\n",
       "      <td>2021-06-13T16:17:31.694</td>\n",
       "      <td>None</td>\n",
       "      <td>2023-07-24T19:50:20.881595</td>\n",
       "    </tr>\n",
       "  </tbody>\n",
       "</table>\n",
       "</div>"
      ],
      "text/plain": [
       "    competition_id  season_id country_name         competition_name  \\\n",
       "22              37         90      England  FA Women's Super League   \n",
       "23              37         42      England  FA Women's Super League   \n",
       "24              37          4      England  FA Women's Super League   \n",
       "\n",
       "   competition_gender  competition_youth  competition_international  \\\n",
       "22             female              False                      False   \n",
       "23             female              False                      False   \n",
       "24             female              False                      False   \n",
       "\n",
       "   season_name               match_updated        match_updated_360  \\\n",
       "22   2020/2021  2023-02-25T14:52:09.326729  2021-06-13T16:17:31.694   \n",
       "23   2019/2020  2023-07-25T01:08:03.214566  2021-06-13T16:17:31.694   \n",
       "24   2018/2019  2023-07-24T19:50:20.881595  2021-06-13T16:17:31.694   \n",
       "\n",
       "   match_available_360             match_available  \n",
       "22                None  2023-02-25T14:52:09.326729  \n",
       "23                None  2023-07-25T01:08:03.214566  \n",
       "24                None  2023-07-24T19:50:20.881595  "
      ]
     },
     "execution_count": 2,
     "metadata": {},
     "output_type": "execute_result"
    }
   ],
   "source": [
    "competitions = sb.competitions()\n",
    "competitions.loc[competitions[\"competition_name\"] == \"FA Women's Super League\"]"
   ]
  },
  {
   "cell_type": "code",
   "execution_count": 12,
   "metadata": {},
   "outputs": [
    {
     "data": {
      "text/plain": [
       "(131, 22)"
      ]
     },
     "execution_count": 12,
     "metadata": {},
     "output_type": "execute_result"
    }
   ],
   "source": [
    "wsl_comp_id = 37\n",
    "wsl_matches_20_21 = Season(competition_id=wsl_comp_id, season_id=90)\n",
    "\n",
    "wsl_matches_20_21.get_matches().shape"
   ]
  },
  {
   "cell_type": "code",
   "execution_count": 53,
   "metadata": {},
   "outputs": [
    {
     "data": {
      "text/plain": [
       "array([['Aston Villa', 'Arsenal WFC', 'Brighton & Hove Albion WFC'],\n",
       "       ['Chelsea FCW', 'Reading WFC', 'Manchester United'],\n",
       "       ['Birmingham City WFC', 'Bristol City WFC', 'West Ham United LFC'],\n",
       "       ['Everton LFC', 'Tottenham Hotspur Women', 'Manchester City WFC']],\n",
       "      dtype=object)"
      ]
     },
     "execution_count": 53,
     "metadata": {},
     "output_type": "execute_result"
    }
   ],
   "source": [
    "wsl_matches_20_21.matches[\"home_team\"].unique().reshape((4,3))"
   ]
  },
  {
   "cell_type": "code",
   "execution_count": 64,
   "metadata": {},
   "outputs": [],
   "source": [
    "def plot_shots_for_season(season, team):\n",
    "    matches = pd.concat([season.get_matches(home_team=team),season.get_matches(away_team=team)] )\n",
    "    shots = pd.concat([\n",
    "        Match(match_id=match_id).get_events(type=\"Shot\", team=team)\n",
    "        for match_id in matches[\"match_id\"]\n",
    "    ])\n",
    "    goals = shots.loc[shots[\"shot_outcome\"] == \"Goal\"]\n",
    "    \n",
    "    pitch = Pitch()\n",
    "    fig, ax = pitch.draw()\n",
    "\n",
    "    ax.scatter(\n",
    "            [shot[0] for shot in shots[\"location\"].values],\n",
    "            [shot[1] for shot in shots[\"location\"].values],\n",
    "            c=[xG for xG in shots[\"shot_statsbomb_xg\"].values],\n",
    "            s=0.5,\n",
    "            cmap='rainbow',\n",
    "        )\n",
    "\n",
    "    ax.scatter(\n",
    "            [goal[0] for goal in goals[\"location\"].values],\n",
    "            [goal[1] for goal in goals[\"location\"].values],\n",
    "            c=[xG for xG in goals[\"shot_statsbomb_xg\"].values],\n",
    "            s=15,\n",
    "            cmap='rainbow'\n",
    "        )\n",
    "    \n",
    "    ax.set_title(f\"{team}, xG {sum(shots['shot_statsbomb_xg']):.2f}, goals/shots {len(goals)}/{len(shots)}\")"
   ]
  },
  {
   "cell_type": "code",
   "execution_count": 66,
   "metadata": {},
   "outputs": [
    {
     "data": {
      "image/png": "[encoded data removed]",
      "text/plain": [
       "<Figure size 640x480 with 1 Axes>"
      ]
     },
     "metadata": {},
     "output_type": "display_data"
    }
   ],
   "source": [
    "# teams = wsl_matches_20_21.matches[\"home_team\"].unique()\n",
    "teams = [\"Bristol City WFC\"]\n",
    "\n",
    "for team in teams:\n",
    "    plot_shots_for_season(wsl_matches_20_21, team)\n"
   ]
  },
  {
   "cell_type": "code",
   "execution_count": 23,
   "metadata": {},
   "outputs": [
    {
     "data": {
      "text/plain": [
       "duration                                                       0.698834\n",
       "id                                 0ba83eaf-b15d-4879-9ee5-cba49421bd89\n",
       "index                                                               278\n",
       "location                                                  [109.4, 43.0]\n",
       "match_id                                                        3775648\n",
       "minute                                                                5\n",
       "period                                                                1\n",
       "play_pattern                                                From Corner\n",
       "player                                                 Vivianne Miedema\n",
       "player_id                                                       15623.0\n",
       "position                                                      Left Wing\n",
       "possession                                                           11\n",
       "possession_team                                             Arsenal WFC\n",
       "possession_team_id                                                  968\n",
       "related_events                   [a552e0c3-0842-49c4-a180-58519e740f6a]\n",
       "second                                                               21\n",
       "shot_body_part                                                     Head\n",
       "shot_end_location                                         [111.5, 49.2]\n",
       "shot_freeze_frame     [{'location': [115.7, 38.0], 'player': {'id': ...\n",
       "shot_key_pass_id                   c23b0878-5af1-4f89-b172-167e5174415b\n",
       "shot_outcome                                                    Wayward\n",
       "shot_statsbomb_xg                                              0.046658\n",
       "shot_technique                                                   Normal\n",
       "shot_type                                                     Open Play\n",
       "team                                                        Arsenal WFC\n",
       "timestamp                                                  00:05:21.756\n",
       "type                                                               Shot\n",
       "Name: 3616, dtype: object"
      ]
     },
     "execution_count": 23,
     "metadata": {},
     "output_type": "execute_result"
    }
   ],
   "source": [
    "shot = arsenal_shots.loc[3616]\n",
    "shot.dropna()"
   ]
  },
  {
   "cell_type": "code",
   "execution_count": 26,
   "metadata": {},
   "outputs": [
    {
     "data": {
      "text/plain": [
       "[{'location': [115.7, 38.0],\n",
       "  'player': {'id': 4657, 'name': 'Anita Amma Ankyewah Asante'},\n",
       "  'position': {'id': 4, 'name': 'Center Back'},\n",
       "  'teammate': False},\n",
       " {'location': [119.0, 40.9],\n",
       "  'player': {'id': 38317, 'name': 'Lisa Weiß'},\n",
       "  'position': {'id': 1, 'name': 'Goalkeeper'},\n",
       "  'teammate': False},\n",
       " {'location': [110.3, 36.4],\n",
       "  'player': {'id': 10102, 'name': 'Stine Larsen'},\n",
       "  'position': {'id': 24, 'name': 'Left Center Forward'},\n",
       "  'teammate': False},\n",
       " {'location': [110.2, 42.8],\n",
       "  'player': {'id': 46535, 'name': 'Natalie Haigh'},\n",
       "  'position': {'id': 5, 'name': 'Left Center Back'},\n",
       "  'teammate': False},\n",
       " {'location': [93.3, 26.1],\n",
       "  'player': {'id': 25610, 'name': 'Mana Iwabuchi'},\n",
       "  'position': {'id': 22, 'name': 'Right Center Forward'},\n",
       "  'teammate': False},\n",
       " {'location': [117.4, 42.3],\n",
       "  'player': {'id': 46537, 'name': 'Jodie Hutton'},\n",
       "  'position': {'id': 8, 'name': 'Left Wing Back'},\n",
       "  'teammate': False},\n",
       " {'location': [106.7, 28.8],\n",
       "  'player': {'id': 46539, 'name': 'Nadine Hanssen'},\n",
       "  'position': {'id': 13, 'name': 'Right Center Midfield'},\n",
       "  'teammate': False},\n",
       " {'location': [118.0, 35.9],\n",
       "  'player': {'id': 46534, 'name': \"Elisha N''Dow\"},\n",
       "  'position': {'id': 3, 'name': 'Right Center Back'},\n",
       "  'teammate': False},\n",
       " {'location': [107.7, 24.9],\n",
       "  'player': {'id': 15565, 'name': 'Marisa Ewers'},\n",
       "  'position': {'id': 10, 'name': 'Center Defensive Midfield'},\n",
       "  'teammate': False},\n",
       " {'location': [109.0, 44.2],\n",
       "  'player': {'id': 10193, 'name': 'Chloe Arthur'},\n",
       "  'position': {'id': 15, 'name': 'Left Center Midfield'},\n",
       "  'teammate': False},\n",
       " {'location': [115.1, 37.4],\n",
       "  'player': {'id': 10650, 'name': 'Jill Roord'},\n",
       "  'position': {'id': 15, 'name': 'Left Center Midfield'},\n",
       "  'teammate': True},\n",
       " {'location': [104.5, 47.3],\n",
       "  'player': {'id': 18999, 'name': 'Leah Williamson'},\n",
       "  'position': {'id': 3, 'name': 'Right Center Back'},\n",
       "  'teammate': True},\n",
       " {'location': [102.1, 29.0],\n",
       "  'player': {'id': 10192, 'name': 'Jordan Nobbs'},\n",
       "  'position': {'id': 17, 'name': 'Right Wing'},\n",
       "  'teammate': True},\n",
       " {'location': [109.9, 35.8],\n",
       "  'player': {'id': 17524, 'name': 'Jennifer Patricia Beattie'},\n",
       "  'position': {'id': 5, 'name': 'Left Center Back'},\n",
       "  'teammate': True},\n",
       " {'location': [101.3, 35.9],\n",
       "  'player': {'id': 10658, 'name': 'Danielle van de Donk'},\n",
       "  'position': {'id': 13, 'name': 'Right Center Midfield'},\n",
       "  'teammate': True}]"
      ]
     },
     "execution_count": 26,
     "metadata": {},
     "output_type": "execute_result"
    }
   ],
   "source": [
    "shot.shot_freeze_frame"
   ]
  },
  {
   "cell_type": "code",
   "execution_count": 41,
   "metadata": {},
   "outputs": [
    {
     "data": {
      "text/plain": [
       "Text(0.5, 1.0, 'Shot by Vivianne Miedema, Half 1 minute 5, xG 0.046657536')"
      ]
     },
     "execution_count": 41,
     "metadata": {},
     "output_type": "execute_result"
    },
    {
     "data": {
      "image/png": "[encoded data removed]",
      "text/plain": [
       "<Figure size 640x480 with 1 Axes>"
      ]
     },
     "metadata": {},
     "output_type": "display_data"
    }
   ],
   "source": [
    "pitch = Pitch()\n",
    "fig, ax = pitch.draw()\n",
    "\n",
    "ax.plot(\n",
    "    [player[\"location\"][0] for player in shot.shot_freeze_frame if player[\"teammate\"]],\n",
    "    [player[\"location\"][1] for player in shot.shot_freeze_frame if player[\"teammate\"]],\n",
    "    \"b.\",\n",
    ")\n",
    "ax.plot(\n",
    "    [player[\"location\"][0] for player in shot.shot_freeze_frame if not player[\"teammate\"]],\n",
    "    [player[\"location\"][1] for player in shot.shot_freeze_frame if not player[\"teammate\"]],\n",
    "    \"r.\",\n",
    ")\n",
    "\n",
    "def plt_arrow(ax, start: tuple, end: tuple):\n",
    "    ax.arrow(\n",
    "        start[0],\n",
    "        start[1],\n",
    "        end[0] - start[0],\n",
    "        end[1] - start[1],\n",
    "        head_width=1,\n",
    "        length_includes_head=True,\n",
    "    )\n",
    "\n",
    "plt_arrow(ax, shot[\"location\"], shot[\"shot_end_location\"])\n",
    "\n",
    "ax.set_title(f\"Shot by {shot.player}, Half {shot.period} minute {shot.minute}, xG {shot.shot_statsbomb_xg}\")"
   ]
  }
 ],
 "metadata": {
  "kernelspec": {
   "display_name": "venv",
   "language": "python",
   "name": "python3"
  },
  "language_info": {
   "codemirror_mode": {
    "name": "ipython",
    "version": 3
   },
   "file_extension": ".py",
   "mimetype": "text/x-python",
   "name": "python",
   "nbconvert_exporter": "python",
   "pygments_lexer": "ipython3",
   "version": "3.9.13"
  }
 },
 "nbformat": 4,
 "nbformat_minor": 2
}
